{
  "nbformat": 4,
  "nbformat_minor": 0,
  "metadata": {
    "colab": {
      "name": "dow jones.ipynb",
      "provenance": [],
      "collapsed_sections": []
    },
    "kernelspec": {
      "name": "python3",
      "display_name": "Python 3"
    }
  },
  "cells": [
    {
      "cell_type": "code",
      "metadata": {
        "id": "WPxxi8uPmKkv",
        "colab_type": "code",
        "colab": {}
      },
      "source": [
        "import pandas as pd\n",
        "import numpy as np\n",
        "import tensorflow as tf\n",
        "import re\n",
        "from nltk.corpus import stopwords\n",
        "from sklearn.model_selection import train_test_split\n",
        "from sklearn.metrics import median_absolute_error as mae\n",
        "from sklearn.metrics import mean_squared_error as mse\n",
        "from sklearn.metrics import accuracy_score as acc\n",
        "import matplotlib.pyplot as plt\n",
        "from keras.models import Sequential\n",
        "from keras import initializers\n",
        "from keras.layers import Dropout, Activation, Embedding, Convolution1D, MaxPooling1D, Input, Dense,BatchNormalization, Flatten, Reshape, Concatenate\n",
        "from keras.layers.recurrent import LSTM, GRU\n",
        "from keras.layers.merge import Concatenate\n",
        "from keras.callbacks import Callback, ModelCheckpoint, EarlyStopping, ReduceLROnPlateau\n",
        "from keras.models import Model\n",
        "from keras.optimizers import Adam, SGD, RMSprop\n",
        "from keras import regularizers"
      ],
      "execution_count": 0,
      "outputs": []
    },
    {
      "cell_type": "code",
      "metadata": {
        "id": "tSjt3m2LsaWT",
        "colab_type": "code",
        "colab": {}
      },
      "source": [
        "dj=pd.read_csv('/content/upload_DJIA_table.csv')\n",
        "news=pd.read_csv('/content/RedditNews.csv')"
      ],
      "execution_count": 0,
      "outputs": []
    },
    {
      "cell_type": "code",
      "metadata": {
        "id": "YKFYiRf9yPwb",
        "colab_type": "code",
        "outputId": "9e37166c-fde7-4ab3-ca85-55c97ae4ecdf",
        "colab": {
          "base_uri": "https://localhost:8080/",
          "height": 204
        }
      },
      "source": [
        "dj.head()"
      ],
      "execution_count": 4,
      "outputs": [
        {
          "output_type": "execute_result",
          "data": {
            "text/html": [
              "<div>\n",
              "<style scoped>\n",
              "    .dataframe tbody tr th:only-of-type {\n",
              "        vertical-align: middle;\n",
              "    }\n",
              "\n",
              "    .dataframe tbody tr th {\n",
              "        vertical-align: top;\n",
              "    }\n",
              "\n",
              "    .dataframe thead th {\n",
              "        text-align: right;\n",
              "    }\n",
              "</style>\n",
              "<table border=\"1\" class=\"dataframe\">\n",
              "  <thead>\n",
              "    <tr style=\"text-align: right;\">\n",
              "      <th></th>\n",
              "      <th>Date</th>\n",
              "      <th>Open</th>\n",
              "      <th>High</th>\n",
              "      <th>Low</th>\n",
              "      <th>Close</th>\n",
              "      <th>Volume</th>\n",
              "      <th>Adj Close</th>\n",
              "    </tr>\n",
              "  </thead>\n",
              "  <tbody>\n",
              "    <tr>\n",
              "      <th>0</th>\n",
              "      <td>2016-07-01</td>\n",
              "      <td>17924.240234</td>\n",
              "      <td>18002.380859</td>\n",
              "      <td>17916.910156</td>\n",
              "      <td>17949.369141</td>\n",
              "      <td>82160000</td>\n",
              "      <td>17949.369141</td>\n",
              "    </tr>\n",
              "    <tr>\n",
              "      <th>1</th>\n",
              "      <td>2016-06-30</td>\n",
              "      <td>17712.759766</td>\n",
              "      <td>17930.609375</td>\n",
              "      <td>17711.800781</td>\n",
              "      <td>17929.990234</td>\n",
              "      <td>133030000</td>\n",
              "      <td>17929.990234</td>\n",
              "    </tr>\n",
              "    <tr>\n",
              "      <th>2</th>\n",
              "      <td>2016-06-29</td>\n",
              "      <td>17456.019531</td>\n",
              "      <td>17704.509766</td>\n",
              "      <td>17456.019531</td>\n",
              "      <td>17694.679688</td>\n",
              "      <td>106380000</td>\n",
              "      <td>17694.679688</td>\n",
              "    </tr>\n",
              "    <tr>\n",
              "      <th>3</th>\n",
              "      <td>2016-06-28</td>\n",
              "      <td>17190.509766</td>\n",
              "      <td>17409.720703</td>\n",
              "      <td>17190.509766</td>\n",
              "      <td>17409.720703</td>\n",
              "      <td>112190000</td>\n",
              "      <td>17409.720703</td>\n",
              "    </tr>\n",
              "    <tr>\n",
              "      <th>4</th>\n",
              "      <td>2016-06-27</td>\n",
              "      <td>17355.210938</td>\n",
              "      <td>17355.210938</td>\n",
              "      <td>17063.080078</td>\n",
              "      <td>17140.240234</td>\n",
              "      <td>138740000</td>\n",
              "      <td>17140.240234</td>\n",
              "    </tr>\n",
              "  </tbody>\n",
              "</table>\n",
              "</div>"
            ],
            "text/plain": [
              "         Date          Open  ...     Volume     Adj Close\n",
              "0  2016-07-01  17924.240234  ...   82160000  17949.369141\n",
              "1  2016-06-30  17712.759766  ...  133030000  17929.990234\n",
              "2  2016-06-29  17456.019531  ...  106380000  17694.679688\n",
              "3  2016-06-28  17190.509766  ...  112190000  17409.720703\n",
              "4  2016-06-27  17355.210938  ...  138740000  17140.240234\n",
              "\n",
              "[5 rows x 7 columns]"
            ]
          },
          "metadata": {
            "tags": []
          },
          "execution_count": 4
        }
      ]
    },
    {
      "cell_type": "code",
      "metadata": {
        "id": "szLsdgbatZ0m",
        "colab_type": "code",
        "outputId": "5f07beac-3390-48b0-ce51-0f9b72e5c54d",
        "colab": {
          "base_uri": "https://localhost:8080/",
          "height": 34
        }
      },
      "source": [
        "dj.shape,news.shape"
      ],
      "execution_count": 5,
      "outputs": [
        {
          "output_type": "execute_result",
          "data": {
            "text/plain": [
              "((1989, 7), (73608, 2))"
            ]
          },
          "metadata": {
            "tags": []
          },
          "execution_count": 5
        }
      ]
    },
    {
      "cell_type": "code",
      "metadata": {
        "id": "eAdCe6jxtbGD",
        "colab_type": "code",
        "outputId": "7bfc3412-3d79-4768-b840-73ec35711b65",
        "colab": {
          "base_uri": "https://localhost:8080/",
          "height": 153
        }
      },
      "source": [
        "dj.isnull().sum()"
      ],
      "execution_count": 6,
      "outputs": [
        {
          "output_type": "execute_result",
          "data": {
            "text/plain": [
              "Date         0\n",
              "Open         0\n",
              "High         0\n",
              "Low          0\n",
              "Close        0\n",
              "Volume       0\n",
              "Adj Close    0\n",
              "dtype: int64"
            ]
          },
          "metadata": {
            "tags": []
          },
          "execution_count": 6
        }
      ]
    },
    {
      "cell_type": "code",
      "metadata": {
        "id": "Vy6bzq3YuUn3",
        "colab_type": "code",
        "outputId": "1864b876-d86c-42d5-8b9a-bcd5df765d55",
        "colab": {
          "base_uri": "https://localhost:8080/",
          "height": 68
        }
      },
      "source": [
        "news.isnull().sum()"
      ],
      "execution_count": 7,
      "outputs": [
        {
          "output_type": "execute_result",
          "data": {
            "text/plain": [
              "Date    0\n",
              "News    0\n",
              "dtype: int64"
            ]
          },
          "metadata": {
            "tags": []
          },
          "execution_count": 7
        }
      ]
    },
    {
      "cell_type": "code",
      "metadata": {
        "id": "C46V8dxwuWob",
        "colab_type": "code",
        "outputId": "0dedbca9-0652-40da-f71d-0aac79016544",
        "colab": {
          "base_uri": "https://localhost:8080/",
          "height": 34
        }
      },
      "source": [
        "print(len(set(news.Date)),len(set(dj.Date)))"
      ],
      "execution_count": 8,
      "outputs": [
        {
          "output_type": "stream",
          "text": [
            "2943 1989\n"
          ],
          "name": "stdout"
        }
      ]
    },
    {
      "cell_type": "code",
      "metadata": {
        "id": "j8U8nGE2ucxz",
        "colab_type": "code",
        "colab": {}
      },
      "source": [
        "news=news[news.Date.isin(dj.Date)]"
      ],
      "execution_count": 0,
      "outputs": []
    },
    {
      "cell_type": "code",
      "metadata": {
        "id": "yWI--0nhvv3r",
        "colab_type": "code",
        "outputId": "951dd591-cfa3-4435-c299-3d5ed55905a0",
        "colab": {
          "base_uri": "https://localhost:8080/",
          "height": 34
        }
      },
      "source": [
        "print(len(set(news.Date)),len(set(dj.Date)))"
      ],
      "execution_count": 10,
      "outputs": [
        {
          "output_type": "stream",
          "text": [
            "1989 1989\n"
          ],
          "name": "stdout"
        }
      ]
    },
    {
      "cell_type": "code",
      "metadata": {
        "id": "N6mKZlegwgR3",
        "colab_type": "code",
        "colab": {}
      },
      "source": [
        "dj = dj.set_index('Date').diff(periods=1)\n",
        "dj['Date'] = dj.index\n",
        "dj = dj.reset_index(drop=True)\n",
        "dj = dj.drop(['High','Low','Close','Volume','Adj Close'], 1)"
      ],
      "execution_count": 0,
      "outputs": []
    },
    {
      "cell_type": "code",
      "metadata": {
        "id": "9GxDuTinyJ23",
        "colab_type": "code",
        "outputId": "3d930031-c24e-4fcd-fd0c-a6ad202ae208",
        "colab": {
          "base_uri": "https://localhost:8080/",
          "height": 204
        }
      },
      "source": [
        "dj.head()"
      ],
      "execution_count": 12,
      "outputs": [
        {
          "output_type": "execute_result",
          "data": {
            "text/html": [
              "<div>\n",
              "<style scoped>\n",
              "    .dataframe tbody tr th:only-of-type {\n",
              "        vertical-align: middle;\n",
              "    }\n",
              "\n",
              "    .dataframe tbody tr th {\n",
              "        vertical-align: top;\n",
              "    }\n",
              "\n",
              "    .dataframe thead th {\n",
              "        text-align: right;\n",
              "    }\n",
              "</style>\n",
              "<table border=\"1\" class=\"dataframe\">\n",
              "  <thead>\n",
              "    <tr style=\"text-align: right;\">\n",
              "      <th></th>\n",
              "      <th>Open</th>\n",
              "      <th>Date</th>\n",
              "    </tr>\n",
              "  </thead>\n",
              "  <tbody>\n",
              "    <tr>\n",
              "      <th>0</th>\n",
              "      <td>NaN</td>\n",
              "      <td>2016-07-01</td>\n",
              "    </tr>\n",
              "    <tr>\n",
              "      <th>1</th>\n",
              "      <td>-211.480468</td>\n",
              "      <td>2016-06-30</td>\n",
              "    </tr>\n",
              "    <tr>\n",
              "      <th>2</th>\n",
              "      <td>-256.740235</td>\n",
              "      <td>2016-06-29</td>\n",
              "    </tr>\n",
              "    <tr>\n",
              "      <th>3</th>\n",
              "      <td>-265.509765</td>\n",
              "      <td>2016-06-28</td>\n",
              "    </tr>\n",
              "    <tr>\n",
              "      <th>4</th>\n",
              "      <td>164.701172</td>\n",
              "      <td>2016-06-27</td>\n",
              "    </tr>\n",
              "  </tbody>\n",
              "</table>\n",
              "</div>"
            ],
            "text/plain": [
              "         Open        Date\n",
              "0         NaN  2016-07-01\n",
              "1 -211.480468  2016-06-30\n",
              "2 -256.740235  2016-06-29\n",
              "3 -265.509765  2016-06-28\n",
              "4  164.701172  2016-06-27"
            ]
          },
          "metadata": {
            "tags": []
          },
          "execution_count": 12
        }
      ]
    },
    {
      "cell_type": "code",
      "metadata": {
        "id": "rFYwu8xjy7KN",
        "colab_type": "code",
        "colab": {}
      },
      "source": [
        "dj=dj[dj.Open.notnull()]"
      ],
      "execution_count": 0,
      "outputs": []
    },
    {
      "cell_type": "code",
      "metadata": {
        "id": "7FcvFbFjzbI9",
        "colab_type": "code",
        "outputId": "46fec2ef-3cd3-4c4f-c5b1-08da538ab5f2",
        "colab": {
          "base_uri": "https://localhost:8080/",
          "height": 68
        }
      },
      "source": [
        "dj.isnull().sum()"
      ],
      "execution_count": 14,
      "outputs": [
        {
          "output_type": "execute_result",
          "data": {
            "text/plain": [
              "Open    0\n",
              "Date    0\n",
              "dtype: int64"
            ]
          },
          "metadata": {
            "tags": []
          },
          "execution_count": 14
        }
      ]
    },
    {
      "cell_type": "code",
      "metadata": {
        "id": "fNb6oOmqzhzO",
        "colab_type": "code",
        "outputId": "083a8954-4123-4605-99ad-f9f6a2dc130e",
        "colab": {
          "base_uri": "https://localhost:8080/",
          "height": 68
        }
      },
      "source": [
        "price=[]\n",
        "headlines=[]\n",
        "for row in dj.iterrows():\n",
        "  daily_headlines=[]\n",
        "  date=row[1]['Date']\n",
        "  price.append(row[1]['Open'])\n",
        "  for i in news[news.Date==date].iterrows():\n",
        "    daily_headlines.append(i[1]['News'])\n",
        "  headlines.append(daily_headlines)\n",
        "  if(len(price)%500==0):\n",
        "    print(len(price))"
      ],
      "execution_count": 15,
      "outputs": [
        {
          "output_type": "stream",
          "text": [
            "500\n",
            "1000\n",
            "1500\n"
          ],
          "name": "stdout"
        }
      ]
    },
    {
      "cell_type": "code",
      "metadata": {
        "id": "A0nzHF160i-C",
        "colab_type": "code",
        "outputId": "af182c1f-7908-4b61-b741-e6d1273e3c1f",
        "colab": {
          "base_uri": "https://localhost:8080/",
          "height": 51
        }
      },
      "source": [
        "print(len(price))\n",
        "print(len(headlines))"
      ],
      "execution_count": 16,
      "outputs": [
        {
          "output_type": "stream",
          "text": [
            "1988\n",
            "1988\n"
          ],
          "name": "stdout"
        }
      ]
    },
    {
      "cell_type": "code",
      "metadata": {
        "id": "s8o2qCNU4bbX",
        "colab_type": "code",
        "outputId": "0b138f49-0f16-4a66-87cd-5d75e8f690b1",
        "colab": {
          "base_uri": "https://localhost:8080/",
          "height": 51
        }
      },
      "source": [
        "print(max(len(i) for i in headlines))\n",
        "print(min(len(i) for i in headlines))"
      ],
      "execution_count": 17,
      "outputs": [
        {
          "output_type": "stream",
          "text": [
            "25\n",
            "22\n"
          ],
          "name": "stdout"
        }
      ]
    },
    {
      "cell_type": "code",
      "metadata": {
        "id": "wnwXRKBW4dM2",
        "colab_type": "code",
        "colab": {}
      },
      "source": [
        "contractions = { \n",
        "\"ain't\": \"am not\",\n",
        "\"aren't\": \"are not\",\n",
        "\"can't\": \"cannot\",\n",
        "\"can't've\": \"cannot have\",\n",
        "\"'cause\": \"because\",\n",
        "\"could've\": \"could have\",\n",
        "\"couldn't\": \"could not\",\n",
        "\"couldn't've\": \"could not have\",\n",
        "\"didn't\": \"did not\",\n",
        "\"doesn't\": \"does not\",\n",
        "\"don't\": \"do not\",\n",
        "\"hadn't\": \"had not\",\n",
        "\"hadn't've\": \"had not have\",\n",
        "\"hasn't\": \"has not\",\n",
        "\"haven't\": \"have not\",\n",
        "\"he'd\": \"he would\",\n",
        "\"he'd've\": \"he would have\",\n",
        "\"he'll\": \"he will\",\n",
        "\"he's\": \"he is\",\n",
        "\"how'd\": \"how did\",\n",
        "\"how'll\": \"how will\",\n",
        "\"how's\": \"how is\",\n",
        "\"i'd\": \"i would\",\n",
        "\"i'll\": \"i will\",\n",
        "\"i'm\": \"i am\",\n",
        "\"i've\": \"i have\",\n",
        "\"isn't\": \"is not\",\n",
        "\"it'd\": \"it would\",\n",
        "\"it'll\": \"it will\",\n",
        "\"it's\": \"it is\",\n",
        "\"let's\": \"let us\",\n",
        "\"ma'am\": \"madam\",\n",
        "\"mayn't\": \"may not\",\n",
        "\"might've\": \"might have\",\n",
        "\"mightn't\": \"might not\",\n",
        "\"must've\": \"must have\",\n",
        "\"mustn't\": \"must not\",\n",
        "\"needn't\": \"need not\",\n",
        "\"oughtn't\": \"ought not\",\n",
        "\"shan't\": \"shall not\",\n",
        "\"sha'n't\": \"shall not\",\n",
        "\"she'd\": \"she would\",\n",
        "\"she'll\": \"she will\",\n",
        "\"she's\": \"she is\",\n",
        "\"should've\": \"should have\",\n",
        "\"shouldn't\": \"should not\",\n",
        "\"that'd\": \"that would\",\n",
        "\"that's\": \"that is\",\n",
        "\"there'd\": \"there had\",\n",
        "\"there's\": \"there is\",\n",
        "\"they'd\": \"they would\",\n",
        "\"they'll\": \"they will\",\n",
        "\"they're\": \"they are\",\n",
        "\"they've\": \"they have\",\n",
        "\"wasn't\": \"was not\",\n",
        "\"we'd\": \"we would\",\n",
        "\"we'll\": \"we will\",\n",
        "\"we're\": \"we are\",\n",
        "\"we've\": \"we have\",\n",
        "\"weren't\": \"were not\",\n",
        "\"what'll\": \"what will\",\n",
        "\"what're\": \"what are\",\n",
        "\"what's\": \"what is\",\n",
        "\"what've\": \"what have\",\n",
        "\"where'd\": \"where did\",\n",
        "\"where's\": \"where is\",\n",
        "\"who'll\": \"who will\",\n",
        "\"who's\": \"who is\",\n",
        "\"won't\": \"will not\",\n",
        "\"wouldn't\": \"would not\",\n",
        "\"you'd\": \"you would\",\n",
        "\"you'll\": \"you will\",\n",
        "\"you're\": \"you are\"\n",
        "}"
      ],
      "execution_count": 0,
      "outputs": []
    },
    {
      "cell_type": "code",
      "metadata": {
        "id": "2YOSkFfx9NVF",
        "colab_type": "code",
        "outputId": "b028b6b0-844b-46b2-8e51-787882aaa7df",
        "colab": {
          "base_uri": "https://localhost:8080/",
          "height": 68
        }
      },
      "source": [
        "import nltk\n",
        "nltk.download('stopwords')"
      ],
      "execution_count": 19,
      "outputs": [
        {
          "output_type": "stream",
          "text": [
            "[nltk_data] Downloading package stopwords to /root/nltk_data...\n",
            "[nltk_data]   Package stopwords is already up-to-date!\n"
          ],
          "name": "stdout"
        },
        {
          "output_type": "execute_result",
          "data": {
            "text/plain": [
              "True"
            ]
          },
          "metadata": {
            "tags": []
          },
          "execution_count": 19
        }
      ]
    },
    {
      "cell_type": "code",
      "metadata": {
        "id": "YEuwbMGH54c9",
        "colab_type": "code",
        "colab": {}
      },
      "source": [
        "def clean_text(text, remove_stopwords = True):\n",
        "    text = text.lower() \n",
        "    \n",
        "    if True:\n",
        "        text = text.split()\n",
        "        new_text = []\n",
        "        for word in text:\n",
        "            if word in contractions:\n",
        "                new_text.append(contractions[word])\n",
        "            else:\n",
        "                new_text.append(word)\n",
        "        text = \" \".join(new_text)\n",
        "    \n",
        "    text = re.sub(r'&amp;', '', text) \n",
        "    text = re.sub(r'0,0', '00', text) \n",
        "    text = re.sub(r'[_\"\\-;%()|.,+&=*%.,!?:#@\\[\\]]', ' ', text)\n",
        "    text = re.sub(r'\\'', ' ', text)\n",
        "    text = re.sub(r'\\$', ' $ ', text)\n",
        "    text = re.sub(r'u s ', ' united states ', text)\n",
        "    text = re.sub(r'u n ', ' united nations ', text)\n",
        "    text = re.sub(r'u k ', ' united kingdom ', text)\n",
        "    text = re.sub(r'j k ', ' jk ', text)\n",
        "    text = re.sub(r' s ', ' ', text)\n",
        "    text = re.sub(r' yr ', ' year ', text)\n",
        "    text = re.sub(r' l g b t ', ' lgbt ', text)\n",
        "    text = re.sub(r'0km ', '0 km ', text)\n",
        "    \n",
        "    if remove_stopwords:\n",
        "        text = text.split()\n",
        "        stops = set(stopwords.words(\"english\"))\n",
        "        text = [w for w in text if not w in stops]\n",
        "        text = \" \".join(text)\n",
        "\n",
        "    return text"
      ],
      "execution_count": 0,
      "outputs": []
    },
    {
      "cell_type": "code",
      "metadata": {
        "id": "barnBMwy75tI",
        "colab_type": "code",
        "colab": {}
      },
      "source": [
        "clean_headlines = []\n",
        "for daily_headlines in headlines:\n",
        "    clean_daily_headlines = []\n",
        "    for headline in daily_headlines:\n",
        "        clean_daily_headlines.append(clean_text(headline))\n",
        "    clean_headlines.append(clean_daily_headlines)"
      ],
      "execution_count": 0,
      "outputs": []
    },
    {
      "cell_type": "code",
      "metadata": {
        "id": "MnxvooVcQUa9",
        "colab_type": "code",
        "outputId": "e2a8aa3b-b1d9-45fc-f158-b0301582919b",
        "colab": {
          "base_uri": "https://localhost:8080/",
          "height": 34
        }
      },
      "source": [
        "word_counts={}\n",
        "for daily_headline in clean_headlines:\n",
        "  for headline in daily_headline:\n",
        "    for word in headline.split():\n",
        "      if word not in word_counts:\n",
        "        word_counts[word]=1\n",
        "      else:\n",
        "        word_counts[word]+=1\n",
        "print(len(word_counts))"
      ],
      "execution_count": 22,
      "outputs": [
        {
          "output_type": "stream",
          "text": [
            "35190\n"
          ],
          "name": "stdout"
        }
      ]
    },
    {
      "cell_type": "code",
      "metadata": {
        "id": "a_uCNR0jRkPE",
        "colab_type": "code",
        "outputId": "4f6f3f38-e949-4d01-fe4c-307ac2a582bb",
        "colab": {
          "base_uri": "https://localhost:8080/",
          "height": 34
        }
      },
      "source": [
        "embeddings_index = {}\n",
        "with open('/content/drive/My Drive/glove.840B.300d.txt', encoding='utf-8') as f:\n",
        "    for line in f:\n",
        "        values = line.split(' ')\n",
        "        word = values[0]\n",
        "        embedding = np.asarray(values[1:], dtype='float32')\n",
        "        embeddings_index[word] = embedding\n",
        "print('Word embeddings:', len(embeddings_index))"
      ],
      "execution_count": 23,
      "outputs": [
        {
          "output_type": "stream",
          "text": [
            "Word embeddings: 2196017\n"
          ],
          "name": "stdout"
        }
      ]
    },
    {
      "cell_type": "code",
      "metadata": {
        "id": "KhleQOb6JLv1",
        "colab_type": "code",
        "outputId": "5bb85f6c-f9e4-415b-a447-b7e611ad8809",
        "colab": {
          "base_uri": "https://localhost:8080/",
          "height": 51
        }
      },
      "source": [
        "missing_words = 0\n",
        "threshold = 10\n",
        "\n",
        "for word, count in word_counts.items():\n",
        "    if count > threshold:\n",
        "        if word not in embeddings_index:\n",
        "            missing_words += 1\n",
        "            \n",
        "missing_ratio = round(missing_words/len(word_counts),4)*100\n",
        "            \n",
        "print(\"Number of words missing from GloVe:\", missing_words)\n",
        "print(\"Percent of words that are missing from vocabulary: {}%\".format(missing_ratio))"
      ],
      "execution_count": 24,
      "outputs": [
        {
          "output_type": "stream",
          "text": [
            "Number of words missing from GloVe: 47\n",
            "Percent of words that are missing from vocabulary: 0.13%\n"
          ],
          "name": "stdout"
        }
      ]
    },
    {
      "cell_type": "code",
      "metadata": {
        "id": "7m8Vfd6aJuEJ",
        "colab_type": "code",
        "colab": {}
      },
      "source": [
        "vocab_to_int = {} \n",
        "value = 0\n",
        "for word, count in word_counts.items():\n",
        "    if count >= threshold or word in embeddings_index:\n",
        "        vocab_to_int[word] = value\n",
        "        value += 1"
      ],
      "execution_count": 0,
      "outputs": []
    },
    {
      "cell_type": "code",
      "metadata": {
        "id": "H6uXv06gKmdq",
        "colab_type": "code",
        "colab": {}
      },
      "source": [
        "codes = [\"<UNK>\",\"<PAD>\"]   \n",
        "for code in codes:\n",
        "    vocab_to_int[code] = len(vocab_to_int)"
      ],
      "execution_count": 0,
      "outputs": []
    },
    {
      "cell_type": "code",
      "metadata": {
        "id": "UEqFGUR3KqKw",
        "colab_type": "code",
        "colab": {}
      },
      "source": [
        "int_to_vocab = {}\n",
        "for word, value in vocab_to_int.items():\n",
        "    int_to_vocab[value] = word"
      ],
      "execution_count": 0,
      "outputs": []
    },
    {
      "cell_type": "code",
      "metadata": {
        "id": "_eLXE-umLQlT",
        "colab_type": "code",
        "outputId": "9df26820-8875-4588-b02c-1502ef6def86",
        "colab": {
          "base_uri": "https://localhost:8080/",
          "height": 68
        }
      },
      "source": [
        "usage_ratio = round(len(vocab_to_int) / len(word_counts),4)*100\n",
        "print(\"Total Number of Unique Words:\", len(word_counts))\n",
        "print(\"Number of Words we will use:\", len(vocab_to_int))\n",
        "print(\"Percent of Words we will use: {}%\".format(usage_ratio))"
      ],
      "execution_count": 28,
      "outputs": [
        {
          "output_type": "stream",
          "text": [
            "Total Number of Unique Words: 35190\n",
            "Number of Words we will use: 31265\n",
            "Percent of Words we will use: 88.85%\n"
          ],
          "name": "stdout"
        }
      ]
    },
    {
      "cell_type": "code",
      "metadata": {
        "id": "CDv70hfHOkvd",
        "colab_type": "code",
        "outputId": "8807f7a1-1fc6-453a-b456-da11254defb1",
        "colab": {
          "base_uri": "https://localhost:8080/",
          "height": 34
        }
      },
      "source": [
        "embedding_dim = 300\n",
        "nb_words = len(vocab_to_int)\n",
        "word_embedding_matrix = np.zeros((nb_words, embedding_dim))\n",
        "for word, i in vocab_to_int.items():\n",
        "    if word in embeddings_index:\n",
        "        word_embedding_matrix[i] = embeddings_index[word]\n",
        "    else:\n",
        "        new_embedding = np.array(np.random.uniform(-1.0, 1.0, embedding_dim))\n",
        "        embeddings_index[word] = new_embedding\n",
        "        word_embedding_matrix[i] = new_embedding\n",
        "print(len(word_embedding_matrix))"
      ],
      "execution_count": 29,
      "outputs": [
        {
          "output_type": "stream",
          "text": [
            "31265\n"
          ],
          "name": "stdout"
        }
      ]
    },
    {
      "cell_type": "code",
      "metadata": {
        "id": "5IWY3r3pPOXW",
        "colab_type": "code",
        "outputId": "14c5a15d-c8dd-42cd-8ca2-9a876e079861",
        "colab": {
          "base_uri": "https://localhost:8080/",
          "height": 68
        }
      },
      "source": [
        "word_count = 0\n",
        "unk_count = 0\n",
        "int_headlines = []\n",
        "for date in clean_headlines:\n",
        "    int_daily_headlines = []\n",
        "    for headline in date:\n",
        "        int_headline = []\n",
        "        for word in headline.split():\n",
        "            word_count += 1\n",
        "            if word in vocab_to_int:\n",
        "                int_headline.append(vocab_to_int[word])\n",
        "            else:\n",
        "                int_headline.append(vocab_to_int[\"<UNK>\"])\n",
        "                unk_count += 1\n",
        "        int_daily_headlines.append(int_headline)\n",
        "    int_headlines.append(int_daily_headlines)\n",
        "\n",
        "unk_percent = round(unk_count/word_count,4)*100\n",
        "\n",
        "print(\"Total number of words in headlines:\", word_count)\n",
        "print(\"Total number of UNKs in headlines:\", unk_count)\n",
        "print(\"Percent of words that are UNK: {}%\".format(unk_percent))"
      ],
      "execution_count": 30,
      "outputs": [
        {
          "output_type": "stream",
          "text": [
            "Total number of words in headlines: 615989\n",
            "Total number of UNKs in headlines: 5262\n",
            "Percent of words that are UNK: 0.8500000000000001%\n"
          ],
          "name": "stdout"
        }
      ]
    },
    {
      "cell_type": "code",
      "metadata": {
        "id": "nbMGp7A2RzgW",
        "colab_type": "code",
        "colab": {}
      },
      "source": [
        "lengths = []\n",
        "for date in int_headlines:\n",
        "    for headline in date:\n",
        "        lengths.append(len(headline))\n",
        "lengths = pd.DataFrame(lengths, columns=['counts'])"
      ],
      "execution_count": 0,
      "outputs": []
    },
    {
      "cell_type": "code",
      "metadata": {
        "id": "y49GGXm4VnnY",
        "colab_type": "code",
        "outputId": "ad54bc5a-a2e4-4379-8263-831a21b51278",
        "colab": {
          "base_uri": "https://localhost:8080/",
          "height": 297
        }
      },
      "source": [
        "lengths.describe()"
      ],
      "execution_count": 32,
      "outputs": [
        {
          "output_type": "execute_result",
          "data": {
            "text/html": [
              "<div>\n",
              "<style scoped>\n",
              "    .dataframe tbody tr th:only-of-type {\n",
              "        vertical-align: middle;\n",
              "    }\n",
              "\n",
              "    .dataframe tbody tr th {\n",
              "        vertical-align: top;\n",
              "    }\n",
              "\n",
              "    .dataframe thead th {\n",
              "        text-align: right;\n",
              "    }\n",
              "</style>\n",
              "<table border=\"1\" class=\"dataframe\">\n",
              "  <thead>\n",
              "    <tr style=\"text-align: right;\">\n",
              "      <th></th>\n",
              "      <th>counts</th>\n",
              "    </tr>\n",
              "  </thead>\n",
              "  <tbody>\n",
              "    <tr>\n",
              "      <th>count</th>\n",
              "      <td>49693.000000</td>\n",
              "    </tr>\n",
              "    <tr>\n",
              "      <th>mean</th>\n",
              "      <td>12.395891</td>\n",
              "    </tr>\n",
              "    <tr>\n",
              "      <th>std</th>\n",
              "      <td>6.790246</td>\n",
              "    </tr>\n",
              "    <tr>\n",
              "      <th>min</th>\n",
              "      <td>1.000000</td>\n",
              "    </tr>\n",
              "    <tr>\n",
              "      <th>25%</th>\n",
              "      <td>7.000000</td>\n",
              "    </tr>\n",
              "    <tr>\n",
              "      <th>50%</th>\n",
              "      <td>10.000000</td>\n",
              "    </tr>\n",
              "    <tr>\n",
              "      <th>75%</th>\n",
              "      <td>16.000000</td>\n",
              "    </tr>\n",
              "    <tr>\n",
              "      <th>max</th>\n",
              "      <td>41.000000</td>\n",
              "    </tr>\n",
              "  </tbody>\n",
              "</table>\n",
              "</div>"
            ],
            "text/plain": [
              "             counts\n",
              "count  49693.000000\n",
              "mean      12.395891\n",
              "std        6.790246\n",
              "min        1.000000\n",
              "25%        7.000000\n",
              "50%       10.000000\n",
              "75%       16.000000\n",
              "max       41.000000"
            ]
          },
          "metadata": {
            "tags": []
          },
          "execution_count": 32
        }
      ]
    },
    {
      "cell_type": "code",
      "metadata": {
        "id": "G3x33KOsVqd5",
        "colab_type": "code",
        "colab": {}
      },
      "source": [
        "max_headline_length = 16\n",
        "max_daily_length = 200\n",
        "pad_headlines = []\n",
        "\n",
        "for date in int_headlines:\n",
        "    pad_daily_headlines = []\n",
        "    for headline in date:\n",
        "        if len(headline) <= max_headline_length:\n",
        "            for word in headline:\n",
        "                pad_daily_headlines.append(word) \n",
        "        else:\n",
        "            headline = headline[:max_headline_length]\n",
        "            for word in headline:\n",
        "                pad_daily_headlines.append(word)\n",
        "    if len(pad_daily_headlines) < max_daily_length:\n",
        "        for i in range(max_daily_length-len(pad_daily_headlines)):\n",
        "            pad = vocab_to_int[\"<PAD>\"]\n",
        "            pad_daily_headlines.append(pad)\n",
        "    else:\n",
        "        pad_daily_headlines = pad_daily_headlines[:max_daily_length]\n",
        "    pad_headlines.append(pad_daily_headlines)"
      ],
      "execution_count": 0,
      "outputs": []
    },
    {
      "cell_type": "code",
      "metadata": {
        "id": "lnqJuJjxXVlM",
        "colab_type": "code",
        "colab": {}
      },
      "source": [
        "max_price = max(price)\n",
        "min_price = min(price)\n",
        "mean_price = np.mean(price)\n",
        "def normalize(price):\n",
        "    return ((price-min_price)/(max_price-min_price))"
      ],
      "execution_count": 0,
      "outputs": []
    },
    {
      "cell_type": "code",
      "metadata": {
        "id": "5xIQGdrIXXcL",
        "colab_type": "code",
        "colab": {}
      },
      "source": [
        "norm_price = []\n",
        "for p in price:\n",
        "    norm_price.append(normalize(p))"
      ],
      "execution_count": 0,
      "outputs": []
    },
    {
      "cell_type": "code",
      "metadata": {
        "id": "qh9tsioOah6x",
        "colab_type": "code",
        "colab": {}
      },
      "source": [
        "x_train, x_test, y_train, y_test = train_test_split(pad_headlines, norm_price, test_size = 0.15, random_state = 2)"
      ],
      "execution_count": 0,
      "outputs": []
    },
    {
      "cell_type": "code",
      "metadata": {
        "id": "kvrzLHv2bzON",
        "colab_type": "code",
        "colab": {}
      },
      "source": [
        "x_train = np.array(x_train)\n",
        "x_test = np.array(x_test)\n",
        "y_train = np.array(y_train)\n",
        "y_test = np.array(y_test)"
      ],
      "execution_count": 0,
      "outputs": []
    },
    {
      "cell_type": "code",
      "metadata": {
        "id": "SfSu_kckb1ti",
        "colab_type": "code",
        "outputId": "a20e8a14-9521-4374-a155-c99580aad9dd",
        "colab": {
          "base_uri": "https://localhost:8080/",
          "height": 51
        }
      },
      "source": [
        "print(len(x_train))\n",
        "print(len(x_test))"
      ],
      "execution_count": 38,
      "outputs": [
        {
          "output_type": "stream",
          "text": [
            "1689\n",
            "299\n"
          ],
          "name": "stdout"
        }
      ]
    },
    {
      "cell_type": "code",
      "metadata": {
        "id": "0qjVhmnHcDy1",
        "colab_type": "code",
        "colab": {}
      },
      "source": [
        "filter_length1 = 3\n",
        "filter_length2 = 5\n",
        "dropout = 0.5\n",
        "learning_rate = 0.001\n",
        "weights = initializers.TruncatedNormal(mean=0.0, stddev=0.1, seed=2)\n",
        "nb_filter = 16\n",
        "rnn_output_size = 128\n",
        "hidden_dims = 128\n",
        "wider = True\n",
        "deeper = True"
      ],
      "execution_count": 0,
      "outputs": []
    },
    {
      "cell_type": "code",
      "metadata": {
        "id": "sfoYOPtudLkr",
        "colab_type": "code",
        "colab": {}
      },
      "source": [
        "if wider == True:\n",
        "    nb_filter *= 2\n",
        "    rnn_output_size *= 2\n",
        "    hidden_dims *= 2"
      ],
      "execution_count": 0,
      "outputs": []
    },
    {
      "cell_type": "code",
      "metadata": {
        "id": "IEBLNpdsdN_V",
        "colab_type": "code",
        "colab": {}
      },
      "source": [
        "def build_model():\n",
        "    \n",
        "    model1 = Sequential()\n",
        "    \n",
        "    model1.add(Embedding(nb_words, \n",
        "                         embedding_dim,\n",
        "                         weights=[word_embedding_matrix], \n",
        "                         input_length=max_daily_length))\n",
        "    model1.add(Dropout(dropout))\n",
        "    \n",
        "    model1.add(Convolution1D(filters = nb_filter, \n",
        "                             kernel_size = filter_length1, \n",
        "                             padding = 'same',\n",
        "                            activation = 'relu'))\n",
        "    model1.add(Dropout(dropout))\n",
        "    \n",
        "    if deeper == True:\n",
        "        model1.add(Convolution1D(filters = nb_filter, \n",
        "                                 kernel_size = filter_length1, \n",
        "                                 padding = 'same',\n",
        "                                activation = 'relu'))\n",
        "        model1.add(Dropout(dropout))\n",
        "    \n",
        "    model1.add(LSTM(rnn_output_size, \n",
        "                   activation=None,\n",
        "                   kernel_initializer=weights,\n",
        "                   dropout = dropout))\n",
        "    \n",
        "    model1.add(Dense(1, \n",
        "                    kernel_initializer = weights,\n",
        "                    name='output'))\n",
        "    model1.compile(loss='mean_squared_error',\n",
        "                  optimizer=Adam(lr=learning_rate,clipvalue=1.0))\n",
        "    return model1"
      ],
      "execution_count": 0,
      "outputs": []
    },
    {
      "cell_type": "code",
      "metadata": {
        "id": "zKP5wl18f2qe",
        "colab_type": "code",
        "outputId": "80ab5d63-09fa-4182-a951-77bc0abe488c",
        "colab": {
          "base_uri": "https://localhost:8080/",
          "height": 1000
        }
      },
      "source": [
        "for deeper in [False]:\n",
        "    for wider in [True,False]:\n",
        "        for learning_rate in [0.001]:\n",
        "            for dropout in [0.3, 0.5]:\n",
        "                model = build_model()\n",
        "                print()\n",
        "                print(\"Current model: Deeper={}, Wider={}, LR={}, Dropout={}\".format(deeper,wider,learning_rate,dropout))\n",
        "                print()\n",
        "                save_best_weights = 'question_pairs_weights_deeper={}_wider={}_lr={}_dropout={}.h5'.format(deeper,wider,learning_rate,dropout)\n",
        "\n",
        "                callbacks = [ModelCheckpoint(save_best_weights, monitor='val_loss', save_best_only=True),\n",
        "                             EarlyStopping(monitor='val_loss', patience=5, verbose=1, mode='auto'),\n",
        "                             ReduceLROnPlateau(monitor='val_loss', factor=0.2, verbose=1, patience=3)]\n",
        "\n",
        "                history = model.fit(x_train,\n",
        "                                    y_train,\n",
        "                                    batch_size=128,\n",
        "                                    epochs=100,\n",
        "                                    validation_split=0.15,\n",
        "                                    verbose=True,\n",
        "                                    shuffle=True,\n",
        "                                    callbacks = callbacks)"
      ],
      "execution_count": 46,
      "outputs": [
        {
          "output_type": "stream",
          "text": [
            "WARNING:tensorflow:From /usr/local/lib/python3.6/dist-packages/keras/optimizers.py:793: The name tf.train.Optimizer is deprecated. Please use tf.compat.v1.train.Optimizer instead.\n",
            "\n",
            "\n",
            "Current model: Deeper=False, Wider=True, LR=0.001, Dropout=0.3\n",
            "\n",
            "WARNING:tensorflow:From /usr/local/lib/python3.6/dist-packages/tensorflow_core/python/ops/math_grad.py:1424: where (from tensorflow.python.ops.array_ops) is deprecated and will be removed in a future version.\n",
            "Instructions for updating:\n",
            "Use tf.where in 2.0, which has the same broadcast rule as np.where\n",
            "WARNING:tensorflow:From /usr/local/lib/python3.6/dist-packages/keras/backend/tensorflow_backend.py:1033: The name tf.assign_add is deprecated. Please use tf.compat.v1.assign_add instead.\n",
            "\n",
            "WARNING:tensorflow:From /usr/local/lib/python3.6/dist-packages/keras/backend/tensorflow_backend.py:1020: The name tf.assign is deprecated. Please use tf.compat.v1.assign instead.\n",
            "\n",
            "Train on 1435 samples, validate on 254 samples\n",
            "Epoch 1/100\n",
            "1435/1435 [==============================] - 28s 20ms/step - loss: 0.1115 - val_loss: 0.0110\n",
            "Epoch 2/100\n",
            "1435/1435 [==============================] - 26s 18ms/step - loss: 0.0285 - val_loss: 0.0389\n",
            "Epoch 3/100\n",
            "1435/1435 [==============================] - 26s 18ms/step - loss: 0.0225 - val_loss: 0.0151\n",
            "Epoch 4/100\n",
            "1435/1435 [==============================] - 26s 18ms/step - loss: 0.0157 - val_loss: 0.0182\n",
            "\n",
            "Epoch 00004: ReduceLROnPlateau reducing learning rate to 0.00020000000949949026.\n",
            "Epoch 5/100\n",
            "1435/1435 [==============================] - 26s 18ms/step - loss: 0.0135 - val_loss: 0.0159\n",
            "Epoch 6/100\n",
            "1435/1435 [==============================] - 26s 18ms/step - loss: 0.0134 - val_loss: 0.0163\n",
            "Epoch 00006: early stopping\n",
            "\n",
            "Current model: Deeper=False, Wider=True, LR=0.001, Dropout=0.5\n",
            "\n",
            "Train on 1435 samples, validate on 254 samples\n",
            "Epoch 1/100\n",
            "1435/1435 [==============================] - 28s 20ms/step - loss: 0.1184 - val_loss: 0.0392\n",
            "Epoch 2/100\n",
            "1435/1435 [==============================] - 26s 18ms/step - loss: 0.0384 - val_loss: 0.0531\n",
            "Epoch 3/100\n",
            "1435/1435 [==============================] - 26s 18ms/step - loss: 0.0238 - val_loss: 0.0416\n",
            "Epoch 4/100\n",
            "1435/1435 [==============================] - 26s 18ms/step - loss: 0.0170 - val_loss: 0.0269\n",
            "Epoch 5/100\n",
            "1435/1435 [==============================] - 26s 18ms/step - loss: 0.0131 - val_loss: 0.0142\n",
            "Epoch 6/100\n",
            "1435/1435 [==============================] - 26s 18ms/step - loss: 0.0107 - val_loss: 0.0120\n",
            "Epoch 7/100\n",
            "1435/1435 [==============================] - 26s 18ms/step - loss: 0.0097 - val_loss: 0.0096\n",
            "Epoch 8/100\n",
            "1435/1435 [==============================] - 26s 18ms/step - loss: 0.0096 - val_loss: 0.0074\n",
            "Epoch 9/100\n",
            "1435/1435 [==============================] - 26s 18ms/step - loss: 0.0101 - val_loss: 0.0114\n",
            "Epoch 10/100\n",
            "1435/1435 [==============================] - 26s 18ms/step - loss: 0.0087 - val_loss: 0.0076\n",
            "Epoch 11/100\n",
            "1435/1435 [==============================] - 26s 18ms/step - loss: 0.0087 - val_loss: 0.0093\n",
            "\n",
            "Epoch 00011: ReduceLROnPlateau reducing learning rate to 0.00020000000949949026.\n",
            "Epoch 12/100\n",
            "1435/1435 [==============================] - 26s 18ms/step - loss: 0.0081 - val_loss: 0.0085\n",
            "Epoch 13/100\n",
            "1435/1435 [==============================] - 26s 18ms/step - loss: 0.0080 - val_loss: 0.0084\n",
            "Epoch 00013: early stopping\n",
            "\n",
            "Current model: Deeper=False, Wider=False, LR=0.001, Dropout=0.3\n",
            "\n",
            "Train on 1435 samples, validate on 254 samples\n",
            "Epoch 1/100\n",
            "1435/1435 [==============================] - 28s 20ms/step - loss: 0.0683 - val_loss: 0.0119\n",
            "Epoch 2/100\n",
            "1435/1435 [==============================] - 26s 18ms/step - loss: 0.0237 - val_loss: 0.0220\n",
            "Epoch 3/100\n",
            "1435/1435 [==============================] - 26s 18ms/step - loss: 0.0175 - val_loss: 0.0206\n",
            "Epoch 4/100\n",
            "1435/1435 [==============================] - 26s 18ms/step - loss: 0.0138 - val_loss: 0.0156\n",
            "\n",
            "Epoch 00004: ReduceLROnPlateau reducing learning rate to 0.00020000000949949026.\n",
            "Epoch 5/100\n",
            "1435/1435 [==============================] - 26s 18ms/step - loss: 0.0119 - val_loss: 0.0148\n",
            "Epoch 6/100\n",
            "1435/1435 [==============================] - 27s 18ms/step - loss: 0.0111 - val_loss: 0.0127\n",
            "Epoch 00006: early stopping\n",
            "\n",
            "Current model: Deeper=False, Wider=False, LR=0.001, Dropout=0.5\n",
            "\n",
            "Train on 1435 samples, validate on 254 samples\n",
            "Epoch 1/100\n",
            "1435/1435 [==============================] - 29s 20ms/step - loss: 0.1316 - val_loss: 0.0309\n",
            "Epoch 2/100\n",
            "1435/1435 [==============================] - 27s 19ms/step - loss: 0.0393 - val_loss: 0.0586\n",
            "Epoch 3/100\n",
            "1435/1435 [==============================] - 26s 18ms/step - loss: 0.0268 - val_loss: 0.0478\n",
            "Epoch 4/100\n",
            "1435/1435 [==============================] - 26s 18ms/step - loss: 0.0197 - val_loss: 0.0271\n",
            "Epoch 5/100\n",
            "1435/1435 [==============================] - 26s 18ms/step - loss: 0.0153 - val_loss: 0.0179\n",
            "Epoch 6/100\n",
            "1435/1435 [==============================] - 26s 18ms/step - loss: 0.0133 - val_loss: 0.0130\n",
            "Epoch 7/100\n",
            "1435/1435 [==============================] - 26s 18ms/step - loss: 0.0114 - val_loss: 0.0106\n",
            "Epoch 8/100\n",
            "1435/1435 [==============================] - 26s 18ms/step - loss: 0.0106 - val_loss: 0.0101\n",
            "Epoch 9/100\n",
            "1435/1435 [==============================] - 26s 18ms/step - loss: 0.0094 - val_loss: 0.0087\n",
            "Epoch 10/100\n",
            "1435/1435 [==============================] - 26s 18ms/step - loss: 0.0090 - val_loss: 0.0089\n",
            "Epoch 11/100\n",
            "1435/1435 [==============================] - 26s 18ms/step - loss: 0.0091 - val_loss: 0.0083\n",
            "Epoch 12/100\n",
            "1435/1435 [==============================] - 26s 18ms/step - loss: 0.0090 - val_loss: 0.0086\n",
            "Epoch 13/100\n",
            "1435/1435 [==============================] - 25s 18ms/step - loss: 0.0082 - val_loss: 0.0079\n",
            "Epoch 14/100\n",
            "1435/1435 [==============================] - 26s 18ms/step - loss: 0.0083 - val_loss: 0.0073\n",
            "Epoch 15/100\n",
            "1435/1435 [==============================] - 26s 18ms/step - loss: 0.0085 - val_loss: 0.0085\n",
            "Epoch 16/100\n",
            "1435/1435 [==============================] - 26s 18ms/step - loss: 0.0079 - val_loss: 0.0074\n",
            "Epoch 17/100\n",
            "1435/1435 [==============================] - 26s 18ms/step - loss: 0.0080 - val_loss: 0.0086\n",
            "\n",
            "Epoch 00017: ReduceLROnPlateau reducing learning rate to 0.00020000000949949026.\n",
            "Epoch 18/100\n",
            "1435/1435 [==============================] - 26s 18ms/step - loss: 0.0082 - val_loss: 0.0072\n",
            "Epoch 19/100\n",
            "1435/1435 [==============================] - 26s 18ms/step - loss: 0.0078 - val_loss: 0.0078\n",
            "Epoch 20/100\n",
            "1435/1435 [==============================] - 26s 18ms/step - loss: 0.0078 - val_loss: 0.0080\n",
            "Epoch 21/100\n",
            "1435/1435 [==============================] - 26s 18ms/step - loss: 0.0079 - val_loss: 0.0075\n",
            "\n",
            "Epoch 00021: ReduceLROnPlateau reducing learning rate to 4.0000001899898055e-05.\n",
            "Epoch 22/100\n",
            "1435/1435 [==============================] - 26s 18ms/step - loss: 0.0075 - val_loss: 0.0077\n",
            "Epoch 23/100\n",
            "1435/1435 [==============================] - 26s 18ms/step - loss: 0.0075 - val_loss: 0.0076\n",
            "Epoch 00023: early stopping\n"
          ],
          "name": "stdout"
        }
      ]
    },
    {
      "cell_type": "code",
      "metadata": {
        "id": "9fem7K1DgWIy",
        "colab_type": "code",
        "colab": {
          "base_uri": "https://localhost:8080/",
          "height": 34
        },
        "outputId": "c12f679c-a9e1-40f1-d22c-7f1ec0b2376f"
      },
      "source": [
        "deeper=False\n",
        "wider=False\n",
        "dropout=0.3\n",
        "learning_Rate = 0.001\n",
        "model = build_model()\n",
        "model.load_weights('/content/question_pairs_weights_deeper={}_wider={}_lr={}_dropout={}.h5'.format(\n",
        "                    deeper,wider,learning_rate,dropout))\n",
        "predictions = model.predict(x_test, verbose = True)"
      ],
      "execution_count": 47,
      "outputs": [
        {
          "output_type": "stream",
          "text": [
            "299/299 [==============================] - 2s 5ms/step\n"
          ],
          "name": "stdout"
        }
      ]
    },
    {
      "cell_type": "code",
      "metadata": {
        "id": "xQ_orKqPp_hU",
        "colab_type": "code",
        "colab": {
          "base_uri": "https://localhost:8080/",
          "height": 34
        },
        "outputId": "95e8b303-c709-4d52-a9c7-f8a3034bb307"
      },
      "source": [
        "mse(y_test, predictions)"
      ],
      "execution_count": 48,
      "outputs": [
        {
          "output_type": "execute_result",
          "data": {
            "text/plain": [
              "0.010848742958186611"
            ]
          },
          "metadata": {
            "tags": []
          },
          "execution_count": 48
        }
      ]
    },
    {
      "cell_type": "code",
      "metadata": {
        "id": "cUOQCVmnqEM5",
        "colab_type": "code",
        "colab": {}
      },
      "source": [
        "def unnormalize(price):\n",
        "    price = price*(max_price-min_price)+min_price\n",
        "    return(price)"
      ],
      "execution_count": 0,
      "outputs": []
    },
    {
      "cell_type": "code",
      "metadata": {
        "id": "GSMIGUm5qWLn",
        "colab_type": "code",
        "colab": {}
      },
      "source": [
        "unnorm_predictions = []\n",
        "for pred in predictions:\n",
        "    unnorm_predictions.append(unnormalize(pred))"
      ],
      "execution_count": 0,
      "outputs": []
    },
    {
      "cell_type": "code",
      "metadata": {
        "id": "YG9H5luSqkpH",
        "colab_type": "code",
        "colab": {}
      },
      "source": [
        "unnorm_y_test = []\n",
        "for y in y_test:\n",
        "    unnorm_y_test.append(unnormalize(y))"
      ],
      "execution_count": 0,
      "outputs": []
    },
    {
      "cell_type": "code",
      "metadata": {
        "id": "HXwEyehLqnAn",
        "colab_type": "code",
        "colab": {
          "base_uri": "https://localhost:8080/",
          "height": 34
        },
        "outputId": "f208fc3a-0353-4030-fb81-892cc694dc19"
      },
      "source": [
        "mae(unnorm_y_test, unnorm_predictions)"
      ],
      "execution_count": 54,
      "outputs": [
        {
          "output_type": "execute_result",
          "data": {
            "text/plain": [
              "101.35247871484364"
            ]
          },
          "metadata": {
            "tags": []
          },
          "execution_count": 54
        }
      ]
    },
    {
      "cell_type": "code",
      "metadata": {
        "id": "0BDBPGAeqpmx",
        "colab_type": "code",
        "colab": {
          "base_uri": "https://localhost:8080/",
          "height": 374
        },
        "outputId": "82f496bb-def5-46b0-ffaf-d9839f338e21"
      },
      "source": [
        "print(\"Summary of actual opening price changes\")\n",
        "print(pd.DataFrame(unnorm_y_test, columns=[\"\"]).describe())\n",
        "print()\n",
        "print(\"Summary of predicted opening price changes\")\n",
        "print(pd.DataFrame(unnorm_predictions, columns=[\"\"]).describe())"
      ],
      "execution_count": 55,
      "outputs": [
        {
          "output_type": "stream",
          "text": [
            "Summary of actual opening price changes\n",
            "                 \n",
            "count  299.000000\n",
            "mean    -7.094101\n",
            "std    139.532324\n",
            "min   -541.050782\n",
            "25%    -87.465332\n",
            "50%    -10.759766\n",
            "75%     54.689941\n",
            "max    673.139648\n",
            "\n",
            "Summary of predicted opening price changes\n",
            "                 \n",
            "count  299.000000\n",
            "mean   -51.094839\n",
            "std    105.008963\n",
            "min   -323.959595\n",
            "25%   -121.595490\n",
            "50%    -65.337769\n",
            "75%     10.712494\n",
            "max    560.458740\n"
          ],
          "name": "stdout"
        }
      ]
    },
    {
      "cell_type": "code",
      "metadata": {
        "id": "nkhZTNT2qwM0",
        "colab_type": "code",
        "colab": {
          "base_uri": "https://localhost:8080/",
          "height": 295
        },
        "outputId": "6a9cd3bd-df3f-4068-ae57-a694af6e6466"
      },
      "source": [
        "plt.figure(figsize=(12,4))\n",
        "plt.plot(unnorm_predictions)\n",
        "plt.plot(unnorm_y_test)\n",
        "plt.title(\"Predicted (blue) vs Actual (yellow) Opening Price Changes\")\n",
        "plt.xlabel(\"Testing instances\")\n",
        "plt.ylabel(\"Change in Opening Price\")\n",
        "plt.show()"
      ],
      "execution_count": 57,
      "outputs": [
        {
          "output_type": "display_data",
          "data": {
            "image/png": "[encoded data removed]",
            "text/plain": [
              "<Figure size 864x288 with 1 Axes>"
            ]
          },
          "metadata": {
            "tags": []
          }
        }
      ]
    },
    {
      "cell_type": "code",
      "metadata": {
        "id": "Jo_sv6Hwq2-o",
        "colab_type": "code",
        "colab": {}
      },
      "source": [
        "direction_pred = []\n",
        "for pred in unnorm_predictions:\n",
        "    if pred >= 0:\n",
        "        direction_pred.append(1)\n",
        "    else:\n",
        "        direction_pred.append(0)\n",
        "direction_test = []\n",
        "for value in unnorm_y_test:\n",
        "    if value >= 0:\n",
        "        direction_test.append(1)\n",
        "    else:\n",
        "        direction_test.append(0)"
      ],
      "execution_count": 0,
      "outputs": []
    },
    {
      "cell_type": "code",
      "metadata": {
        "id": "5PSWFZhXrFT6",
        "colab_type": "code",
        "colab": {
          "base_uri": "https://localhost:8080/",
          "height": 34
        },
        "outputId": "d547e316-65a8-48e3-89c3-7e80e315a0ca"
      },
      "source": [
        "direction = acc(direction_test, direction_pred)\n",
        "direction = round(direction,4)*100\n",
        "print(\"Predicted values matched the actual direction {}% of the time.\".format(direction))"
      ],
      "execution_count": 59,
      "outputs": [
        {
          "output_type": "stream",
          "text": [
            "Predicted values matched the actual direction 55.52% of the time.\n"
          ],
          "name": "stdout"
        }
      ]
    },
    {
      "cell_type": "code",
      "metadata": {
        "id": "7l4-sbyUrJ4V",
        "colab_type": "code",
        "colab": {}
      },
      "source": [
        ""
      ],
      "execution_count": 0,
      "outputs": []
    }
  ]
}